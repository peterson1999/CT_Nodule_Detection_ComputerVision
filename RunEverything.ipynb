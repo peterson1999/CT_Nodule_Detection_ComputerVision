{
 "cells": [
  {
   "cell_type": "code",
   "execution_count": 1,
   "id": "63e5fafa",
   "metadata": {},
   "outputs": [],
   "source": [
    "from logger import logging\n",
    "from utils import importstr\n",
    "log = logging.getLogger(__name__)\n",
    "# log.setLevel(logging.WARN)\n",
    "# log.setLevel(logging.INFO)\n",
    "log.setLevel(logging.DEBUG)"
   ]
  },
  {
   "cell_type": "code",
   "execution_count": 2,
   "id": "3a333e02",
   "metadata": {},
   "outputs": [],
   "source": [
    "def run(app, *argv):\n",
    "    argv = list(argv)\n",
    "    argv.insert(0, '--num-workers=4')\n",
    "    log.info(\"Running: {}({!r}).main()\".format(app, argv))\n",
    "    app_cls = importstr(*app.rsplit('.', 1))\n",
    "    app_cls(argv).main()\n",
    "    log.info(\"Finished: {}.{!r}).main()\".format(app, argv))"
   ]
  },
  {
   "cell_type": "code",
   "execution_count": null,
   "id": "eb1213b9",
   "metadata": {},
   "outputs": [
    {
     "name": "stderr",
     "output_type": "stream",
     "text": [
      "2024-07-31 10:49:10,462 INFO     pid:8196 __main__:004:run Running: train.LunaTrainingApp(['--num-workers=4', '--epochs=1', '--num-workers=0', '--batch-size=8']).main()\n"
     ]
    },
    {
     "name": "stdout",
     "output_type": "stream",
     "text": [
      "hello\n",
      "Namespace(num_workers=0, batch_size=8, epochs=1, tb_prefix='p2ch11', comment='dwlpt')\n"
     ]
    },
    {
     "name": "stderr",
     "output_type": "stream",
     "text": [
      "2024-07-31 10:49:12,558 INFO     pid:8196 train:079:main Starting LunaTrainingApp, Namespace(num_workers=0, batch_size=8, epochs=1, tb_prefix='p2ch11', comment='dwlpt')\n",
      "2024-07-31 10:49:14,081 WARNING  pid:8196 utils:116:enumerateWithEstimate E1 Training ----/6406, starting\n"
     ]
    },
    {
     "name": "stdout",
     "output_type": "stream",
     "text": [
      "56938\n"
     ]
    },
    {
     "name": "stderr",
     "output_type": "stream",
     "text": [
      "2024-07-31 10:49:43,692 INFO     pid:8196 utils:133:enumerateWithEstimate E1 Training    4/6406, done at 2024-07-31 21:21:30, 10:32:16\n",
      "2024-07-31 10:50:33,856 INFO     pid:8196 utils:133:enumerateWithEstimate E1 Training   16/6406, done at 2024-07-31 19:10:15, 8:21:01\n",
      "2024-07-31 10:57:22,780 INFO     pid:8196 utils:133:enumerateWithEstimate E1 Training   64/6406, done at 2024-08-01 00:11:57, 13:22:43\n",
      "2024-07-31 11:09:58,015 INFO     pid:8196 utils:133:enumerateWithEstimate E1 Training  256/6406, done at 2024-07-31 19:26:00, 8:36:46\n",
      "2024-07-31 12:49:06,399 INFO     pid:8196 utils:133:enumerateWithEstimate E1 Training 1024/6406, done at 2024-07-31 23:18:24, 12:29:10\n"
     ]
    }
   ],
   "source": [
    "run('train.LunaTrainingApp', '--epochs=1', '--num-workers=0','--batch-size=8')"
   ]
  },
  {
   "cell_type": "code",
   "execution_count": null,
   "id": "c46596e3",
   "metadata": {},
   "outputs": [],
   "source": []
  },
  {
   "cell_type": "code",
   "execution_count": null,
   "id": "aab87376",
   "metadata": {},
   "outputs": [],
   "source": []
  }
 ],
 "metadata": {
  "kernelspec": {
   "display_name": "Python 3 (ipykernel)",
   "language": "python",
   "name": "python3"
  },
  "language_info": {
   "codemirror_mode": {
    "name": "ipython",
    "version": 3
   },
   "file_extension": ".py",
   "mimetype": "text/x-python",
   "name": "python",
   "nbconvert_exporter": "python",
   "pygments_lexer": "ipython3",
   "version": "3.11.5"
  }
 },
 "nbformat": 4,
 "nbformat_minor": 5
}
